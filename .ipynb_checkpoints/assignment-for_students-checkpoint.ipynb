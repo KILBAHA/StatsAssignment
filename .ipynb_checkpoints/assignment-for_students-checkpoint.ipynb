{
 "cells": [
  {
   "cell_type": "markdown",
   "metadata": {},
   "source": [
    "**[Do not edit the contents of this cell]**\n",
    "\n",
    "# MSc in Bioinformatics and Theoretical Systems Biology - Maths and Stats Assignment 2020/21\n",
    "\n",
    "This assignment is to be completed in Python, R or Julia and returned as a clean Jupyter notebook cleared of its output. This is important otherwise Turnitin will reject the submission.\n",
    "\n",
    "There are 4 types of cells used in this notebook:\n",
    "1. Cells containing tasks and instructions to be completed. Do not edit these. These are clearly labelled.\n",
    "2. Cells in which you are meant to provide an answer in Markdown format.\n",
    "3. Cells containing code that defines e.g. which packages to load, but can also contain routines and snippets of codes that you should use.\n",
    "4. Cells that contain the Python/R/Julia code that you write to solve the problems set.\n",
    "\n",
    "Each of these cells will contain explit comments at the top telling you whether to edit or not edit a cell. In Code cells comments are specified by the \"#\" character. In the Markdown Answer Cells, replace the xxx by your answer, whenever these are present. You will have to execute all code and Markdown cells in order to (i) make use of the provided code, and (ii) format the markdown appropriately.\n",
    "\n",
    "There are four problems to be tackled:\n",
    "1. Data exploration [40%]\n",
    "2. Hypothesis testing [20%]\n",
    "3. Regression [20%]\n",
    "4. Classification [20%]\n",
    "\n",
    "For each questions there several parts of different difficulty. Where appropriate, further reading will be given at the start of each question.\n",
    "\n",
    "You will have to specify which language (and version) you used and all packages needed in order to run all Code cells. Please add this information in the next two cells."
   ]
  },
  {
   "cell_type": "markdown",
   "metadata": {},
   "source": [
    "**[Provide your answer here]**\n",
    "- The kernel for this Jupyter notebook is xxx, version xxx, with the following packages: xxx, xxx"
   ]
  },
  {
   "cell_type": "code",
   "execution_count": null,
   "metadata": {},
   "outputs": [],
   "source": [
    "# [Write your code in this cell]\n",
    "# #import all libraries or packages needed\n",
    "# #for instance, in R:\n",
    "# library(coda)\n",
    "# library(ggplot2)\n",
    "# #in python:\n",
    "# import numpy as np\n",
    "# import matplotlib.pyplot as plt\n",
    "# #or in Julia:\n",
    "# using Plots\n",
    "# using Distributions\n",
    "# ..."
   ]
  },
  {
   "cell_type": "markdown",
   "metadata": {},
   "source": [
    "**[Do not edit the contents of this cell]**\n",
    "\n",
    "## Problem 1: data exploration\n",
    "\n",
    "We consider a subset of data coming from a putative association study where researchers collected various metrics and phenotypes to find associations with a putative generic cardiovascular disease.\n",
    "All recruited subjects are adults.\n",
    "\n",
    "For each subject several __predictor variables__ are recorded: sex (1 for female, 0 for male), height (in cm), mass (in kg), whether he/she is a smoker (1) or not (0), whether he/she is a drinker (1) or not (0), and levels of 5 different metabolites (labelled A-E).\n",
    "**Each subject has a unique ID number**. \n",
    "\n",
    "For each subject a disease score, which is the __response__ variable, measuring the severity of the disease phenotype in arbitrary units, is provided.\n",
    "The data is provided in the file `association_data.csv`.\n",
    "\n",
    "### Part 1\n",
    "\n",
    "Load the dataset `association_data.csv`.\n",
    "How many unique records of subjects do we have? How many unique predictor variables?"
   ]
  },
  {
   "cell_type": "code",
   "execution_count": null,
   "metadata": {},
   "outputs": [],
   "source": [
    "# [Write your code in this cell]\n"
   ]
  },
  {
   "cell_type": "markdown",
   "metadata": {},
   "source": [
    "**[Provide your answer here]**\n",
    "- The number of unique records of subjects in the dataset is: xxx\n",
    "- The number of variables in the dataset is: xxx"
   ]
  },
  {
   "cell_type": "markdown",
   "metadata": {},
   "source": [
    "**[Do not edit the contents of this cell]**\n",
    "\n",
    "### Part 2\n",
    "\n",
    "Produce a plot to illustrate the distribution of variables `smoker`, `mass`, `metabolite_A`. Choose the most appropriate visualisation depending on the type of each variable."
   ]
  },
  {
   "cell_type": "code",
   "execution_count": null,
   "metadata": {},
   "outputs": [],
   "source": [
    "# [Write your code in this cell]\n"
   ]
  },
  {
   "cell_type": "code",
   "execution_count": null,
   "metadata": {},
   "outputs": [],
   "source": [
    "# [Write your code in this cell]\n"
   ]
  },
  {
   "cell_type": "code",
   "execution_count": null,
   "metadata": {},
   "outputs": [],
   "source": [
    "# [Write your code in this cell]\n"
   ]
  },
  {
   "cell_type": "markdown",
   "metadata": {},
   "source": [
    "**[Do not edit the contents of this cell]**\n",
    "\n",
    "### Part 3\n",
    "\n",
    "Write a function that returns the Body Mass Index (BMI). Learn from a literature search how to calculate BMI.\n",
    "Calculate BMI for each subject and add it as new __predictor variable__ in the data set."
   ]
  },
  {
   "cell_type": "code",
   "execution_count": null,
   "metadata": {},
   "outputs": [],
   "source": [
    "# [Write your code in this cell]\n"
   ]
  },
  {
   "cell_type": "markdown",
   "metadata": {},
   "source": [
    "**[Do not edit the contents of this cell]**\n",
    "\n",
    "### Part 4\n",
    "\n",
    "Calculate the correlation matrix between __quantitative__ (numerical) predictors. Use this information to impute any missing values, if possible."
   ]
  },
  {
   "cell_type": "code",
   "execution_count": null,
   "metadata": {},
   "outputs": [],
   "source": [
    "# [Write your code in this cell]\n"
   ]
  },
  {
   "cell_type": "code",
   "execution_count": null,
   "metadata": {},
   "outputs": [],
   "source": [
    "# [Write your code in this cell]\n"
   ]
  },
  {
   "cell_type": "markdown",
   "metadata": {},
   "source": [
    "**[Do not edit the contents of this cell]**\n",
    "\n",
    "### Part 5\n",
    "\n",
    "Assuming that a disease status is recorded when the disease score is greater than 1, add a new __response variable__ in the dataset defining the diseased `status` of each subject, either non diseased (0) or diseased (1)."
   ]
  },
  {
   "cell_type": "code",
   "execution_count": null,
   "metadata": {},
   "outputs": [],
   "source": [
    "# [Write your code in this cell]\n"
   ]
  },
  {
   "cell_type": "markdown",
   "metadata": {},
   "source": [
    "**[Do not edit the contents of this cell]**\n",
    "\n",
    "## Problem 2: hypothesis testing\n",
    "\n",
    "Starting from the same dataset in Problem 1, provide answers for the following questions.\n",
    "\n",
    "### Part 1\n",
    "\n",
    "Given this sample space of subjects, what is the probability that a given subject is diagnosed as diseased? What is the probability that a subject is diagnosed as diseased given that he/she is not a smoker?"
   ]
  },
  {
   "cell_type": "code",
   "execution_count": null,
   "metadata": {},
   "outputs": [],
   "source": [
    "# [Write your code in this cell]\n"
   ]
  },
  {
   "cell_type": "markdown",
   "metadata": {},
   "source": [
    "**[Provide your answer here]**\n",
    "- The probability that a subject is diseased is: xxx\n",
    "- The probability that a subject is diseased given that she/he is not a smoker is: xxx"
   ]
  },
  {
   "cell_type": "markdown",
   "metadata": {},
   "source": [
    "**[Do not edit the contents of this cell]**\n",
    "\n",
    "### Part 2\n",
    "\n",
    "Assuming that they distributed as a Normal distribution $N(\\mu, \\sigma^2)$, provide an estimate of $\\mu$ and $\\sigma^2$ for the distributions of height and mass separately for males and females."
   ]
  },
  {
   "cell_type": "code",
   "execution_count": null,
   "metadata": {},
   "outputs": [],
   "source": [
    "# [Write your code in this cell]\n"
   ]
  },
  {
   "cell_type": "markdown",
   "metadata": {},
   "source": [
    "**[Do not edit the contents of this cell]**\n",
    "\n",
    "### Part 3\n",
    "\n",
    "Test whether height is different between males and females. Perform the same test on the mass variable. Define (in words) which ones are your null and alternative hypotheses and significance threshold. Finally, discuss (in words) any conclusion you can make out the results of your statistical tests."
   ]
  },
  {
   "cell_type": "code",
   "execution_count": null,
   "metadata": {},
   "outputs": [],
   "source": [
    "# [Write your code in this cell]\n"
   ]
  },
  {
   "cell_type": "markdown",
   "metadata": {},
   "source": [
    "**[Provide your answer here]**\n",
    "\n",
    "- xxx\n"
   ]
  },
  {
   "cell_type": "markdown",
   "metadata": {},
   "source": [
    "**[Do not edit the contents of this cell]**\n",
    "\n",
    "### Part 4\n",
    "\n",
    "Repeat the statistical test in Part 3 for all numerical predictor variables in the dataset. How many tests are significant with $\\alpha=0.05$?\n",
    "Calculate corrected p-values for multiple tests using a Bonferroni correction. \n",
    "Learn what the Bonferroni correction implies from a literature search. \n",
    "How many tests are significant after correcting for multiple tests? "
   ]
  },
  {
   "cell_type": "code",
   "execution_count": null,
   "metadata": {},
   "outputs": [],
   "source": [
    "# [Write your code in this cell]\n"
   ]
  },
  {
   "cell_type": "markdown",
   "metadata": {},
   "source": [
    "**[Do not edit the contents of this cell]**\n",
    "\n",
    "## Problem 3: regression\n",
    "\n",
    "Assume you have been provided with a new __predictor variable__ indicating a generic glucose index level. We know that such glucose index is related to the variable `metabolite_D` given in the previous dataset.\n",
    "\n",
    "### Part 1\n",
    "\n",
    "Load the new dataset called `glucose_data.csv` which gives the measure of a generic glucose level (`glucose_index`) for each tested subject. Perform a regression where `metabolite_D` is the predictor and `glucose_index` is the response variable. Be aware to merge the two data sets by matching subject IDs."
   ]
  },
  {
   "cell_type": "code",
   "execution_count": null,
   "metadata": {},
   "outputs": [],
   "source": [
    "# [Write your code in this cell]\n"
   ]
  },
  {
   "cell_type": "markdown",
   "metadata": {},
   "source": [
    "**[Do not edit the contents of this cell]**\n",
    "\n",
    "## Problem 4: classification\n",
    "\n",
    "### Part 1\n",
    "\n",
    "Implement an algorithm to predict the disease status of a subject given all response variables provided in the dataset. You are free to choose the appropriate statistical tool you prefer. Assess the performance of your classifier."
   ]
  },
  {
   "cell_type": "code",
   "execution_count": null,
   "metadata": {},
   "outputs": [],
   "source": [
    "# [Write your code in this cell]\n"
   ]
  },
  {
   "cell_type": "markdown",
   "metadata": {},
   "source": [
    "**[Do not edit the contents of this cell]**\n",
    "\n",
    "### Part 2\n",
    "\n",
    "Given the classifier you devised in Part 1, predict the disease status of the following subject:\n",
    "- subject: ID1986\n",
    "- sex: 1\n",
    "- height: 180.2\n",
    "- mass: 70.1\n",
    "- smoker: 1\n",
    "- drinker: 0\n",
    "- metabolite_A: 0.5\n",
    "- metabolite_B: 1.2\n",
    "- metabolite_C: 0.5\n",
    "- metabolite_D: 8.5\n",
    "- metabolite_E: 10.2"
   ]
  },
  {
   "cell_type": "code",
   "execution_count": null,
   "metadata": {},
   "outputs": [],
   "source": [
    "# [Write your code in this cell]\n"
   ]
  },
  {
   "cell_type": "markdown",
   "metadata": {},
   "source": [
    "**[Provide your answer here]**\n",
    "\n",
    "- xxx"
   ]
  }
 ],
 "metadata": {
  "kernelspec": {
   "display_name": "Python 3",
   "language": "python",
   "name": "python3"
  },
  "language_info": {
   "codemirror_mode": {
    "name": "ipython",
    "version": 3
   },
   "file_extension": ".py",
   "mimetype": "text/x-python",
   "name": "python",
   "nbconvert_exporter": "python",
   "pygments_lexer": "ipython3",
   "version": "3.7.1"
  }
 },
 "nbformat": 4,
 "nbformat_minor": 2
}
